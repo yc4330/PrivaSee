{
 "cells": [
  {
   "cell_type": "markdown",
   "metadata": {},
   "source": [
    "## Data Cleaning"
   ]
  },
  {
   "cell_type": "code",
   "execution_count": 1,
   "metadata": {},
   "outputs": [],
   "source": [
    "import pandas as pd\n",
    "import re\n",
    "import unicodedata\n",
    "import html"
   ]
  },
  {
   "cell_type": "code",
   "execution_count": 2,
   "metadata": {},
   "outputs": [],
   "source": [
    "pp = pd.read_csv(\"Top100_Free_01-20.csv\")"
   ]
  },
  {
   "cell_type": "code",
   "execution_count": 7,
   "metadata": {},
   "outputs": [
    {
     "data": {
      "text/html": [
       "<div>\n",
       "<style scoped>\n",
       "    .dataframe tbody tr th:only-of-type {\n",
       "        vertical-align: middle;\n",
       "    }\n",
       "\n",
       "    .dataframe tbody tr th {\n",
       "        vertical-align: top;\n",
       "    }\n",
       "\n",
       "    .dataframe thead th {\n",
       "        text-align: right;\n",
       "    }\n",
       "</style>\n",
       "<table border=\"1\" class=\"dataframe\">\n",
       "  <thead>\n",
       "    <tr style=\"text-align: right;\">\n",
       "      <th></th>\n",
       "      <th>Name</th>\n",
       "      <th>Age_rating</th>\n",
       "      <th>Seller</th>\n",
       "      <th>Price</th>\n",
       "      <th>Category</th>\n",
       "      <th>Privacy_policy</th>\n",
       "      <th>text</th>\n",
       "    </tr>\n",
       "  </thead>\n",
       "  <tbody>\n",
       "    <tr>\n",
       "      <th>0</th>\n",
       "      <td>Temu: Shop Like a Billionaire</td>\n",
       "      <td>4+</td>\n",
       "      <td>Temu</td>\n",
       "      <td>Free</td>\n",
       "      <td>Shopping</td>\n",
       "      <td>https://www.temu.com/privacy-and-cookie-policy...</td>\n",
       "      <td>Temu | Privacy Policy\\n​​​​​​​​​​​​​​​​​​​​​​​...</td>\n",
       "    </tr>\n",
       "    <tr>\n",
       "      <th>1</th>\n",
       "      <td>Threads, an Instagram app</td>\n",
       "      <td>12+</td>\n",
       "      <td>Instagram, Inc.</td>\n",
       "      <td>Free</td>\n",
       "      <td>Social Networking</td>\n",
       "      <td>https://privacycenter.instagram.com/policy</td>\n",
       "      <td>\\n\\n\\n\\n\\n\\n\\n\\n\\n\\n\\n\\n\\n\\n\\n\\n\\n\\n\\n\\n\\n\\n\\n...</td>\n",
       "    </tr>\n",
       "    <tr>\n",
       "      <th>2</th>\n",
       "      <td>TikTok</td>\n",
       "      <td>12+</td>\n",
       "      <td>TikTok Ltd.</td>\n",
       "      <td>Free</td>\n",
       "      <td>Entertainment</td>\n",
       "      <td>https://www.tiktok.com/legal/privacy-policy</td>\n",
       "      <td>Privacy Policy | TikTok\\nU.S.\\nPrivacy Policy\\...</td>\n",
       "    </tr>\n",
       "    <tr>\n",
       "      <th>3</th>\n",
       "      <td>CapCut - Video Editor</td>\n",
       "      <td>12+</td>\n",
       "      <td>Bytedance Pte. Ltd</td>\n",
       "      <td>Free</td>\n",
       "      <td>Photo &amp; Video</td>\n",
       "      <td>https://www.capcut.net/clause/privacy?language=en</td>\n",
       "      <td>\\n\\n\\n\\n\\n\\n\\n\\n\\n\\n\\n\\n\\n\\n\\n\\n\\n\\n\\n\\n\\n\\n\\n...</td>\n",
       "    </tr>\n",
       "    <tr>\n",
       "      <th>4</th>\n",
       "      <td>YouTube: Watch, Listen, Stream</td>\n",
       "      <td>12+</td>\n",
       "      <td>Google LLC</td>\n",
       "      <td>Free</td>\n",
       "      <td>Photo &amp; Video</td>\n",
       "      <td>http://www.google.com/policies/privacy</td>\n",
       "      <td>\\n\\n\\n\\n\\n\\nhttps://policies.google.com/privac...</td>\n",
       "    </tr>\n",
       "  </tbody>\n",
       "</table>\n",
       "</div>"
      ],
      "text/plain": [
       "                             Name Age_rating              Seller Price  \\\n",
       "0   Temu: Shop Like a Billionaire         4+                Temu  Free   \n",
       "1       Threads, an Instagram app        12+     Instagram, Inc.  Free   \n",
       "2                          TikTok        12+         TikTok Ltd.  Free   \n",
       "3           CapCut - Video Editor        12+  Bytedance Pte. Ltd  Free   \n",
       "4  YouTube: Watch, Listen, Stream        12+          Google LLC  Free   \n",
       "\n",
       "            Category                                     Privacy_policy  \\\n",
       "0           Shopping  https://www.temu.com/privacy-and-cookie-policy...   \n",
       "1  Social Networking         https://privacycenter.instagram.com/policy   \n",
       "2      Entertainment        https://www.tiktok.com/legal/privacy-policy   \n",
       "3      Photo & Video  https://www.capcut.net/clause/privacy?language=en   \n",
       "4      Photo & Video             http://www.google.com/policies/privacy   \n",
       "\n",
       "                                                text  \n",
       "0  Temu | Privacy Policy\\n​​​​​​​​​​​​​​​​​​​​​​​...  \n",
       "1  \\n\\n\\n\\n\\n\\n\\n\\n\\n\\n\\n\\n\\n\\n\\n\\n\\n\\n\\n\\n\\n\\n\\n...  \n",
       "2  Privacy Policy | TikTok\\nU.S.\\nPrivacy Policy\\...  \n",
       "3  \\n\\n\\n\\n\\n\\n\\n\\n\\n\\n\\n\\n\\n\\n\\n\\n\\n\\n\\n\\n\\n\\n\\n...  \n",
       "4  \\n\\n\\n\\n\\n\\nhttps://policies.google.com/privac...  "
      ]
     },
     "execution_count": 7,
     "metadata": {},
     "output_type": "execute_result"
    }
   ],
   "source": [
    "pp.head(5)"
   ]
  },
  {
   "cell_type": "markdown",
   "metadata": {},
   "source": [
    "* Duolingo is not parsed. It has 406 \"Not Acceptable\" code.\n",
    "\n",
    "* Copied and pasted the html text"
   ]
  },
  {
   "cell_type": "code",
   "execution_count": 33,
   "metadata": {},
   "outputs": [
    {
     "data": {
      "text/html": [
       "<div>\n",
       "<style scoped>\n",
       "    .dataframe tbody tr th:only-of-type {\n",
       "        vertical-align: middle;\n",
       "    }\n",
       "\n",
       "    .dataframe tbody tr th {\n",
       "        vertical-align: top;\n",
       "    }\n",
       "\n",
       "    .dataframe thead th {\n",
       "        text-align: right;\n",
       "    }\n",
       "</style>\n",
       "<table border=\"1\" class=\"dataframe\">\n",
       "  <thead>\n",
       "    <tr style=\"text-align: right;\">\n",
       "      <th></th>\n",
       "      <th>Name</th>\n",
       "      <th>Age_rating</th>\n",
       "      <th>Seller</th>\n",
       "      <th>Price</th>\n",
       "      <th>Category</th>\n",
       "      <th>Privacy_policy</th>\n",
       "      <th>text</th>\n",
       "      <th>cleaned_text</th>\n",
       "    </tr>\n",
       "  </thead>\n",
       "  <tbody>\n",
       "    <tr>\n",
       "      <th>35</th>\n",
       "      <td>Duolingo - Language Lessons</td>\n",
       "      <td>4+</td>\n",
       "      <td>Duolingo</td>\n",
       "      <td>Free</td>\n",
       "      <td>Education</td>\n",
       "      <td>https://www.duolingo.com/privacy</td>\n",
       "      <td>NaN</td>\n",
       "      <td></td>\n",
       "    </tr>\n",
       "  </tbody>\n",
       "</table>\n",
       "</div>"
      ],
      "text/plain": [
       "                           Name Age_rating    Seller Price   Category  \\\n",
       "35  Duolingo - Language Lessons         4+  Duolingo  Free  Education   \n",
       "\n",
       "                      Privacy_policy text cleaned_text  \n",
       "35  https://www.duolingo.com/privacy  NaN               "
      ]
     },
     "execution_count": 33,
     "metadata": {},
     "output_type": "execute_result"
    }
   ],
   "source": [
    "pp[pp['text'].isna()]"
   ]
  },
  {
   "cell_type": "code",
   "execution_count": 38,
   "metadata": {},
   "outputs": [],
   "source": [
    "duo = \"\"\"Duolingo\n",
    "Privacy Policy\n",
    "Please note that the Privacy Policy was last revised on March 4, 2024\n",
    "\n",
    "General\n",
    "At Duolingo, we care about your personal information, so we have prepared this Privacy Policy to explain how we collect, use, and share it. This Privacy Policy applies to Duolingo websites, mobile apps, and related services (“Service”). By using the Service, you agree with Duolingo’s collection, use, and sharing of your personal information in accordance with the terms of this Privacy Policy.\n",
    "\n",
    "Certain Duolingo services are subject to additional or different terms. For example, when you register for or take the Duolingo English Test, you are also subject to the Supplemental Privacy Terms for the Duolingo English Test.\n",
    "\n",
    "Please note that Duolingo is constantly testing and improving our product features. Any features discussed in this Privacy Policy may not be available to all users or in all jurisdictions.\n",
    "\n",
    "Information We Collect\n",
    "When you use the Service, Duolingo may collect the following personal information about you.\n",
    "\n",
    "a. Account Registration\n",
    "To register for a Duolingo account, you may provide us with your age and email address. In some countries, you may also provide us with your phone number.\n",
    "\n",
    "You may also register for a Duolingo account using certain social logins, such as Google and Facebook. If you register for Duolingo using a social login, Duolingo may receive information about you from your social login provider, including your email address and contacts.\n",
    "\n",
    "You can manage your Duolingo account and social logins from your Settings.\n",
    "\n",
    "b. Profile Page & User-Generated Content\n",
    "After you register for your Duolingo account, a profile page will be created for you (“Profile”). Your Profile will be populated by information you submit, such as your name, username, bio, and profile picture (“User-Generated Content”). Your age, phone number, and email address are not included in your public Profile and are not considered User-Generated Content under this Privacy Policy. Other Duolingo users may be able to search for your Profile using your name, username, email address, or phone number.\n",
    "\n",
    "Your Profile will also include information about your learning progress, such as the languages you are learning, your learning statistics, and your achievements. Moreover, your Profile will show a list of your followers and other users you follow.\n",
    "\n",
    "By default, your Profile is public, and visible to other Duolingo users and anyone else on the Internet. In addition, your User-Generated Content may be publicly visible. If your Profile is public, third-party websites or web scrapers may be able to read, collect, and use your public information for their own purposes. However, you can set your Profile to private in your Settings.\n",
    "\n",
    "You may be able to submit comments that will supplement other users’ Profiles and other users may be able to submit comments that will supplement your Profile. Any comments you submit are considered User-Generated Content under this Privacy Policy. You can delete comments you submit or comments that other users submit to your Profile.\n",
    "\n",
    "Duolingo may scan or review any User-Generated Content, or share your User-Generated Content with a third-party content moderation service provider, to ensure compliance with our Community Guidelines. Duolingo may restrict or delete User-Generated Content if it violates our Community Guidelines or for any other reason.\n",
    "\n",
    "c. Duolingo Max\n",
    "If you subscribe to Duolingo Max, you may interact with Artificial Intelligence (“AI”) features, including Explain My Answer, which provides you with AI-powered feedback on your answers, and Roleplay, which allows you to send text or audio messages to an AI chat companion in an open-ended conversational format.\n",
    "\n",
    "When you interact with AI features, your information may be shared with AI vendors such as OpenAI, which may keep a copy of your text or audio responses for their own purposes. Please do not submit any personal or confidential information when using AI features.\n",
    "\n",
    "d. Speaking Challenges\n",
    "Some lessons involve you speaking into the Duolingo app. To recognize speech, your audio may be sent to a third-party provider such as Google, Apple, or Amazon Web Services. You may disable speaking challenges in your Settings or skip speaking challenges in your lesson.\n",
    "\n",
    "Duolingo may also collect and analyze your speech to help us understand the effectiveness of our lessons and to improve the product. You may choose not to share your audio with us for product improvement purposes in your Settings. Any audio you agree to send to Duolingo is anonymized when it reaches our servers to ensure that no trace of your personal information remains attached to the audio.\n",
    "\n",
    "e. Contact Sync Feature\n",
    "Duolingo has a Contact Sync feature, which allows you to find your contacts who also use Duolingo. If you use Contact Sync, you will give the Duolingo app permission to access the contacts stored on your phone for the purpose of identifying your contacts who also use Duolingo. If Duolingo identifies a user with the same phone number as someone in your contacts, we will recommend that user as someone you may wish to follow.\n",
    "\n",
    "If you use the Contact Sync feature, Duolingo will not store your contacts’ phone numbers, but only an encrypted “hash” of them. This hash is an alternative code to the actual phone number and can be used only to uniquely identify the number. The hashing process securely strips away the real phone number, so Duolingo cannot use the hashes to identify your contacts’ real phone number, contact your contacts, or share their information with anyone else. This hashing process applies only to your contacts’ phone numbers and not yours.\n",
    "\n",
    "If you have submitted your phone number to Duolingo, whether through Contact Sync or some other way (such as adding the phone number to your profile, using it to register, or using it to activate other product features), other Duolingo users who have your phone number in their contacts may be able to locate your Profile using Contact Sync.\n",
    "\n",
    "f. Activity Data\n",
    "When you use the Service, we may generate data about your use of the Service, which may include your browser and device data, log data, and IP address. We will also generate data regarding your engagement in educational activities on the Service.\n",
    "\n",
    "g. FullStory\n",
    "When you use Duolingo in our app or on our website, some of your activity will be logged by a service called FullStory. FullStory captures and analyzes your activity and provides us with data and a video session replay of your activity to help us make the Duolingo experience better. FullStory does not record usernames, names, profile images, email addresses, profile locations or bios, or passwords. However, FullStory records usage patterns (e.g., clicks, mouse movements, scrolling, and typing), tech specs (e.g., browser, device type, operating system, viewfinder size, script errors, and IP address), navigation (e.g., pages visited, referrers, URL parameters, and session duration), and learning activity (e.g., session progress and answers). You can disable FullStory activity recording by using the opt-out function on FullStory’s website. FullStory is disabled for known Child Users.\n",
    "\n",
    "h. Cookies\n",
    "When you access the Duolingo website, we store certain data from your browser using cookies. A cookie is a piece of data stored on the user’s computer tied to data about the user. We use session ID cookies to confirm that users are logged in. If you do not want your data to be collected by cookies, there is a simple procedure in most browsers that allows you to deny or accept the cookie feature. However, cookies may be necessary to provide you with certain features available on the website (e.g., customized information). You can find more information about cookies and how to manage them here.\n",
    "\n",
    "You can see a list of all cookies used at Duolingo on our Cookie List page and manage your cookies in the Privacy Preference Center. Please note that our cookies include Targeting Cookies from Google, Facebook, Amazon, and other companies, which these companies may use to track your activities across multiple websites to deliver personalized advertising to you.\n",
    "\n",
    "i. Google Analytics\n",
    "We use Google Analytics, which is a web analytics tool that helps us understand how users engage with our website. Like many services, Google Analytics uses first-party cookies to track user interactions, as in our case, where they are used to collect information about how users use our site. This information is used to compile reports and to help us improve our site. These reports disclose website trends without identifying individual visitors. You can opt out of Google Analytics by installing Google’s browser add-on available here.\n",
    "\n",
    "How We Process Your Information\n",
    "Duolingo may process your personal information according to the following legal bases: to provide products or services you request, to promote Duolingo’s legitimate interests, to comply with legal obligations, and with your consent. In particular, Duolingo may process and share your personal information in the following ways:\n",
    "\n",
    "a. Providing and improving the Service\n",
    "Duolingo will process your personal information to provide and improve the Service. For example, we will use the information you provide to maintain your Profile and learning progress, display your Profile to other users (unless you make it private), personalize learning content, detect and fix bugs, perform research, and provide customer service to you.\n",
    "\n",
    "Duolingo may share personal information with third parties that help us provide or improve the Service, including hosting providers such as Amazon Web Services, search engine providers such as Google, analytics providers such as Crashlytics, support providers such as ZenDesk, and payment processors such as Stripe. Duolingo may also share your information with third-party vendors that support product features such as AI, speech recognition, and content moderation.\n",
    "\n",
    "If you redeem a promotion code to gain a Duolingo subscription, we may share data regarding your usage of Duolingo with the organization that provided the promotion code to you.\n",
    "\n",
    "b. Communicating with you\n",
    "Duolingo will use the email address or phone number you provide to send you the following types of messages:\n",
    "\n",
    "Essential messages to support the operation of the Service.\n",
    "Messages to support the Duolingo teaching methodology and reinforce your learning, such as learning tips, reminders to practice, and progress reports.\n",
    "Notifications about friend requests and your friends’ progress on Duolingo.\n",
    "Announcements regarding changes to the Service or products.\n",
    "Announcements of new Duolingo products, services, offers, or research opportunities.\n",
    "You may opt-out of receiving non-essential messages in your Settings.\n",
    "\n",
    "c. Complying with law and preventing harmful activities\n",
    "Duolingo may process and share personal information if necessary to comply with legal requests, such as subpoenas or court orders. Duolingo may share personal information when we believe it is necessary to comply with law, to protect our interests or property, to prevent fraud or other illegal activity, to assist law enforcement, or to prevent imminent harm. This may include sharing information with other companies, lawyers, agents, or government agencies.\n",
    "\n",
    "d. Personalized advertising\n",
    "Duolingo may process and share your personal information for the purpose of providing you with personalized advertising. To provide personalized advertising, we work with a variety of third-party advertising networks, marketing analytics service providers, and website analysis firms, such as Google, Facebook, Oath, and Unity. These third-party advertising service providers collect and use personal information about your visits to and use of the Service, as well as other websites, in order to serve you with advertisements and content tailored to meet your preferences and likely interests, and better understand ad effectiveness. Aggregate demographic and interest data will also be used for market research purposes.\n",
    "\n",
    "You can opt out of receiving personalized advertising in your Settings. You may also be able to opt out of receiving personalized ads from advertisers and ad networks that are members of the Network Advertising Initiative or who follow the DAA Self-Regulatory Principles for Online Behavioral Advertising using their respective opt-out tools hyperlinked above. In addition, your mobile devices may offer settings that let you make choices about the collection, use, and transfer of mobile app information for personalized ads (for example, Apple iOS’ Advertising ID and Google Android’s Advertising ID). Users in certain jurisdictions (including the European Union and United Kingdom) are opted out of personalized advertising by default, but may opt in.\n",
    "\n",
    "Please note that opting out of personalized advertising does not prevent the display of all advertisements to you. Certain Duolingo subscriptions may offer an ad-free experience.\n",
    "\n",
    "e. Anonymous information\n",
    "Duolingo may process aggregated, de-identified, or otherwise anonymous or anonymized information for any purpose. Such information is not considered personal information.\n",
    "\n",
    "Your Data Subject Rights\n",
    "You also have the following rights in relation to the personal information we hold about you, in addition to any other rights required by applicable law:\n",
    "\n",
    "Know what personal information we have collected about you.\n",
    "Access a copy of the personal information that we hold about you.\n",
    "Know what personal information about you we have shared with third parties.\n",
    "Opt out of the sharing of your personal information with third parties.\n",
    "Object to our processing of your personal information.\n",
    "Request that we limit our use of your sensitive personal information to what is necessary to perform the services you requested.\n",
    "Not be discriminated against for exercising your data subject rights.\n",
    "Request that we delete any personal information we have collected from you.\n",
    "Request that we correct any inaccurate personal information about you.\n",
    "Export the personal information you have provided to Duolingo in a format that can be transferred electronically to a third party.\n",
    "Withdraw any consent you previously gave us to process your personal information.\n",
    "Delete your Duolingo account by following the instructions in the Service.\n",
    "You may update or correct your information, and exercise certain opt-out rights, in your Settings page. You may request to access or erase your personal information at the Duolingo Data Vault. To make another privacy-related request, please send an email to privacy@duolingo.com.\n",
    "\n",
    "Please note that these rights are not absolute and Duolingo may refuse requests to exercise data subject rights if there is a legitimate reason, such as if we cannot authenticate your identity, if the request could violate the rights of a third party or applicable law, or if the request could interfere with a Duolingo service or prevent us from delivering a service you requested.\n",
    "\n",
    "You may also have the right to make a GDPR complaint to the relevant Supervisory Authority. Here is a list of EEA Supervisory Authorities, and a link to the UK Supervisory Authority.\n",
    "\n",
    "Data Retention\n",
    "Duolingo will generally retain your personal information until your account is deleted. However, Duolingo may retain certain information longer if necessary to provide our Service, defend our legitimate interests or those of third parties, comply with legal requirements, resolve or defend ourselves in disputes, investigate misuse or disruption of the Service, or perform agreements. We may also retain anonymous data indefinitely.\n",
    "\n",
    "Child Users\n",
    "We know that children deserve extra privacy protection. That’s why we treat Child Users (meaning users under the age of 13 in the United States or another age of digital consent in their country) differently to ensure their parents are in control and we only collect the bare minimum information we need to make Duolingo work.\n",
    "\n",
    "Child Users are permitted to create a Duolingo account, but we ask them to provide their parent’s email address instead of their own, and to register using a username that is not tied to their real name.\n",
    "\n",
    "After a Child User registers, we will send an email to the parent’s email address about Duolingo’s privacy practices regarding Child Users, including what personal information we collect and how we use, share, and protect that personal information. The email also explains how parents can request to access, change, or delete information about their child.\n",
    "\n",
    "All Child Users receive the following special treatment when using Duolingo (“Age Restrictions”):\n",
    "\n",
    "Lessons are made age-appropriate by removing mature words.\n",
    "Advertisements are non-personalized and set to family-safe content.\n",
    "Child Users cannot submit their real name or any pictures to their Profile, but are represented only by a letter avatar or cartoon avatar they can create from preset options.\n",
    "The Contact Sync feature is disabled.\n",
    "Promotional emails are disabled.\n",
    "Child Users’ speech data is not shared with Duolingo for product improvement purposes.\n",
    "Child Users in certain jurisdictions (including the United States, European Union, United Kingdom, Norway, Canada, Australia, New Zealand, Singapore, South Korea, and Japan) are subject to these additional Age Restrictions:\n",
    "\n",
    "Child Users may not submit User-Generated Content to Duolingo.\n",
    "Child Users may not provide Duolingo with their real name, profile picture, location, contact information, or other personal information.\n",
    "Child Users cannot link their Duolingo account to their contact information or to their accounts on other online services.\n",
    "Child Users’ Profiles contain no personal information that could be used to publicly identify or contact the child, but only the Child User’s username, an avatar created from preset options, list of friends on Duolingo, and information about their learning progress on Duolingo.\n",
    "Child Users may join paid Duolingo Family Plans. If a Child User joins a paid Duolingo Family Plan, their profile will be visible to other members of the same Duolingo Family Plan.\n",
    "\n",
    "We have activated limited social features for some Child Users. Child Users with these features active can only participate in social features on a limited basis as follows:\n",
    "\n",
    "Child Users can only search for other users, or be searched for by other users, using an exact username or a referral link.\n",
    "Your Child User may see other Child Users in friends suggestions, but only if the other Child User follows your Child User or has mutual followers with your Child User. Child Users will not see or be seen by non-Child Users in friends suggestions.\n",
    "Child Users’ Profiles will be visible from their friends’ profiles.\n",
    "Child Users can only send or receive canned “Kudos” to or from mutual followers; they cannot cannot send or receive user-written messages.\n",
    "Child Users can participate in the “Friends Quest” feature with mutual followers.\n",
    "You can block or unfollow other users on your Child User’s behalf.\n",
    "You can disable social features for your Child User under Settings at any time.\n",
    "Child Users will have access to leaderboards but will receive the following special treatment:\n",
    "\n",
    "The Child User’s username will be anonymized to all other users in the leaderboard. For example, the Child User could appear as “John Smith” instead of their real username to other users.\n",
    "Other leaderboard users will not be able to view the Child User’s Profile or follow the Child User from leaderboards.\n",
    "Child Users will only see avatars instead of profile pictures in their leaderboard.\n",
    "Child Users will see sanitized usernames on their leaderboard; usernames that have profane or obscene words will be replaced with a fake username for Child Users.\n",
    "You can disable Leaderboards for your Child User under Settings in your child’s Profile at any time.\n",
    "Parents may remove their child’s Age Restrictions. Additionally, parents can report any abuse to us at abuse@duolingo.com.\n",
    "\n",
    "In addition, all users under the age of 16 receive the following special treatment:\n",
    "\n",
    "Advertisements are set to non-personalised.\n",
    "Third-party behavioral tracking is disabled.\n",
    "Third-party analytics are disabled.\n",
    "With regards to the Children’s Online Privacy Protection Act, Duolingo collects personal information from children under the age of 13 for the sole purpose of performing internal operations of the Service. If we discover that we have unknowingly collected additional personal information from these children, we will delete it. If you believe this to be the case, please contact us at privacy@duolingo.com.\n",
    "\n",
    "Duolingo ABC\n",
    "Duolingo ABC is designed to be set up by parents and will ask you to provide your child’s age. This information is kept anonymously for research purposes and not tied to your or your child’s personal information in any way. Duolingo ABC does not collect any personal information from children.\n",
    "\n",
    "You can choose whether to enable speaking exercises for your child on Duolingo ABC. Duolingo ABC speech data is stored on your phone and uses Apple’s speech recognition service to convert voice into text. No speech data is shared with Duolingo.\n",
    "\n",
    "As a parent, you also have the option of providing your email address so that Duolingo may send you information about product updates and ask you about participating in product research. If you do provide your email address, you can unsubscribe any time by emailing literacy-feedback@duolingo.com or by clicking the unsubscribe link in any Duolingo ABC emails. Your Duolingo ABC data is backed up into Apple’s iCloud, which allows you to synchronize and restore the data onto another Apple device.\n",
    "\n",
    "Do Not Track\n",
    "The Service is not designed to respond to “do not track” signals sent by some browsers.\n",
    "\n",
    "Links to Third-Party Websites\n",
    "The Service may contain links to other websites. Duolingo is not responsible for the content or privacy practices of other websites, including any personal or financial information collected by third-party payment processors. We encourage users to be aware of the privacy policies of other websites they visit. This Privacy Policy applies only to information collected by Duolingo. Any time you click on a link (including advertising banners) or submit your personal information to a third-party website, you will be subject to that third party’s privacy policies.\n",
    "\n",
    "Privacy Policy Updates\n",
    "We may update our Privacy Policy to reflect changes to our information practices. If we do this and the changes are material, we will post a notice that we have made changes to this Privacy Policy on the Website for at least seven (7) days before the changes are made, and we will indicate the date these terms were last revised at the bottom of the Privacy Policy. Any revisions to this Privacy Policy will become effective at the end of that seven (7) day period.\n",
    "\n",
    "Data Transfer\n",
    "Duolingo is based in the United States and processes data in the United States, which may not provide equivalent levels of data protection as your home jurisdiction. Duolingo may transfer the data of users outside the United States to the United States.\n",
    "\n",
    "Data Privacy Framework (DPF)\n",
    "Duolingo complies with the EU-U.S. Data Privacy Framework (EU-U.S. DPF), the UK Extension to the EU-U.S. DPF, and the Swiss-U.S. Data Privacy Framework (Swiss-U.S. DPF) as set forth by the U.S. Department of Commerce. Duolingo has certified to the U.S. Department of Commerce that it adheres to the EU-U.S. Data Privacy Framework Principles (EU-U.S. DPF Principles) with regard to the processing of personal data received from the European Union in reliance on the EU-U.S. DPF and from the United Kingdom (and Gibraltar) in reliance on the UK Extension to the EU-U.S. DPF. Duolingo has certified to the U.S. Department of Commerce that it adheres to the Swiss-U.S. Data Privacy Framework Principles (Swiss-U.S. DPF Principles) with regard to the processing of personal data received from Switzerland in reliance on the Swiss-U.S. DPF. If there is any conflict between the terms in this privacy policy and the EU-U.S. DPF Principles and/or the Swiss-U.S. DPF Principles, the Principles shall govern. To learn more about the Data Privacy Framework (DPF) program, and to view our certification, please visit https://www.dataprivacyframework.gov/.\n",
    "\n",
    "In compliance with the EU-U.S. DPF and the UK Extension to the EU-U.S. DPF and the Swiss-U.S. DPF, Duolingo commits to resolve DPF Principles-related complaints about our collection and use of your personal information. EU and UK and Swiss individuals with inquiries or complaints regarding our handling of personal data received in reliance on the EU-U.S. DPF and the UK Extension to the EU-U.S. DPF and the Swiss-U.S. DPF should first contact Duolingo at: privacy@duolingo.com.\n",
    "\n",
    "In compliance with the EU-U.S. DPF and the UK Extension to the EU-U.S. DPF and the Swiss-U.S. DPF, Duolingo commits to cooperate and comply respectively with the advice of the panel established by the EU data protection authorities (DPAs) and the UK Information Commissioner’s Office (ICO) and the Gibraltar Regulatory Authority (GRA) and the Swiss Federal Data Protection and Information Commissioner (FDPIC) with regard to unresolved complaints concerning our handling of personal data received in reliance on the EU-U.S. DPF and the UK Extension to the EU-U.S. DPF and the Swiss-U.S. DPF. Individuals have the possibility, under certain conditions, to invoke binding arbitration for complaints regarding DPF compliance not resolved by any of the other DPF mechanisms. See Annex I of the DPF Principles for additional information.\n",
    "\n",
    "Duolingo has responsibility for the processing of personal information it receives under the DPF Principles and subsequently transfers to a third party acting as an agent on its behalf. Duolingo shall remain liable under the DPF Principles if its agent processes such personal information in a manner inconsistent with the DPF Principles, unless Duolingo proves that it is not responsible for the event giving rise to the damage.\n",
    "\n",
    "The Federal Trade Commission has jurisdiction over Duolingo’s compliance with the EU-U.S. Data Privacy Framework (EU-U.S. DPF) and the UK Extension to the EU-U.S. DPF, and the Swiss-U.S. Data Privacy Framework (Swiss-U.S. DPF). Duolingo may disclose personal information in response to lawful requests by US public authorities, including to meet national security or law enforcement requirements.\n",
    "\n",
    "Supplemental Terms in Certain Jurisdictions\n",
    "In some jurisdictions, the Service may be subject to supplemental privacy policies or local laws. For users in those jurisdictions, the applicable supplemental privacy policies and local laws will take precedence over this Privacy Policy to the extent they conflict.\n",
    "\n",
    "Contact Us\n",
    "Duolingo, Inc. is the data controller of your data for the purposes of the General Data Protection Regulation (“GDPR”) and any relevant local legislation. Duolingo’s headquarters are located within the United States at:\n",
    "\n",
    "Duolingo, Inc.\n",
    "5900 Penn Ave.\n",
    "Pittsburgh, PA 15206\n",
    "United States of America\n",
    "Phone: +1-412-567-6602\n",
    "\n",
    "Duolingo, Inc. is also a registered Data Controller with the UK Information Commissioner's Office (ICO), number ZA294891, at the address:\n",
    "\n",
    "Duolingo, Inc.\n",
    "85 Great Portland Street\n",
    "London\n",
    "W1W 7LT\n",
    "United Kingdom\n",
    "\n",
    "For all data privacy inquiries and any questions or concerns you have about this Privacy Policy, please contact our Data Protection Officer at privacy@duolingo.com.\n",
    "\n",
    "For all support inquiries, please go to https://duolingo.com/help.\n",
    "\n",
    "Last revised on March 4, 2024\n",
    "\"\"\""
   ]
  },
  {
   "cell_type": "code",
   "execution_count": 41,
   "metadata": {},
   "outputs": [],
   "source": [
    "pp.loc[pp['text'].isna(), 'text'] = duo"
   ]
  },
  {
   "cell_type": "code",
   "execution_count": 42,
   "metadata": {},
   "outputs": [
    {
     "name": "stdout",
     "output_type": "stream",
     "text": [
      "<class 'pandas.core.series.Series'>\n",
      "RangeIndex: 100 entries, 0 to 99\n",
      "Series name: text\n",
      "Non-Null Count  Dtype \n",
      "--------------  ----- \n",
      "100 non-null    object\n",
      "dtypes: object(1)\n",
      "memory usage: 928.0+ bytes\n"
     ]
    }
   ],
   "source": [
    "pp['text'].info()"
   ]
  },
  {
   "cell_type": "code",
   "execution_count": 49,
   "metadata": {},
   "outputs": [
    {
     "data": {
      "text/html": [
       "<div>\n",
       "<style scoped>\n",
       "    .dataframe tbody tr th:only-of-type {\n",
       "        vertical-align: middle;\n",
       "    }\n",
       "\n",
       "    .dataframe tbody tr th {\n",
       "        vertical-align: top;\n",
       "    }\n",
       "\n",
       "    .dataframe thead th {\n",
       "        text-align: right;\n",
       "    }\n",
       "</style>\n",
       "<table border=\"1\" class=\"dataframe\">\n",
       "  <thead>\n",
       "    <tr style=\"text-align: right;\">\n",
       "      <th></th>\n",
       "      <th>Name</th>\n",
       "      <th>Age_rating</th>\n",
       "      <th>Seller</th>\n",
       "      <th>Price</th>\n",
       "      <th>Category</th>\n",
       "      <th>Privacy_policy</th>\n",
       "      <th>text</th>\n",
       "      <th>cleaned_text</th>\n",
       "    </tr>\n",
       "  </thead>\n",
       "  <tbody>\n",
       "    <tr>\n",
       "      <th>0</th>\n",
       "      <td>Temu: Shop Like a Billionaire</td>\n",
       "      <td>4+</td>\n",
       "      <td>Temu</td>\n",
       "      <td>Free</td>\n",
       "      <td>Shopping</td>\n",
       "      <td>https://www.temu.com/privacy-and-cookie-policy...</td>\n",
       "      <td>Temu | Privacy Policy\\n​​​​​​​​​​​​​​​​​​​​​​​...</td>\n",
       "      <td>Temu | Privacy Policy  Privacy Policy Last upd...</td>\n",
       "    </tr>\n",
       "    <tr>\n",
       "      <th>1</th>\n",
       "      <td>Threads, an Instagram app</td>\n",
       "      <td>12+</td>\n",
       "      <td>Instagram, Inc.</td>\n",
       "      <td>Free</td>\n",
       "      <td>Social Networking</td>\n",
       "      <td>https://privacycenter.instagram.com/policy</td>\n",
       "      <td>\\n\\n\\n\\n\\n\\n\\n\\n\\n\\n\\n\\n\\n\\n\\n\\n\\n\\n\\n\\n\\n\\n\\n...</td>\n",
       "      <td>Meta Privacy Policy - How Meta collects and u...</td>\n",
       "    </tr>\n",
       "    <tr>\n",
       "      <th>2</th>\n",
       "      <td>TikTok</td>\n",
       "      <td>12+</td>\n",
       "      <td>TikTok Ltd.</td>\n",
       "      <td>Free</td>\n",
       "      <td>Entertainment</td>\n",
       "      <td>https://www.tiktok.com/legal/privacy-policy</td>\n",
       "      <td>Privacy Policy | TikTok\\nU.S.\\nPrivacy Policy\\...</td>\n",
       "      <td>Privacy Policy | TikTok U.S. Privacy Policy La...</td>\n",
       "    </tr>\n",
       "    <tr>\n",
       "      <th>3</th>\n",
       "      <td>CapCut - Video Editor</td>\n",
       "      <td>12+</td>\n",
       "      <td>Bytedance Pte. Ltd</td>\n",
       "      <td>Free</td>\n",
       "      <td>Photo &amp; Video</td>\n",
       "      <td>https://www.capcut.net/clause/privacy?language=en</td>\n",
       "      <td>\\n\\n\\n\\n\\n\\n\\n\\n\\n\\n\\n\\n\\n\\n\\n\\n\\n\\n\\n\\n\\n\\n\\n...</td>\n",
       "      <td>Privacy Policy CapCut Privacy Policy Last Upd...</td>\n",
       "    </tr>\n",
       "    <tr>\n",
       "      <th>4</th>\n",
       "      <td>YouTube: Watch, Listen, Stream</td>\n",
       "      <td>12+</td>\n",
       "      <td>Google LLC</td>\n",
       "      <td>Free</td>\n",
       "      <td>Photo &amp; Video</td>\n",
       "      <td>http://www.google.com/policies/privacy</td>\n",
       "      <td>\\n\\n\\n\\n\\n\\nhttps://policies.google.com/privac...</td>\n",
       "      <td>https://policies.google.com/privacy?hl=en&amp;gl=us</td>\n",
       "    </tr>\n",
       "  </tbody>\n",
       "</table>\n",
       "</div>"
      ],
      "text/plain": [
       "                             Name Age_rating              Seller Price  \\\n",
       "0   Temu: Shop Like a Billionaire         4+                Temu  Free   \n",
       "1       Threads, an Instagram app        12+     Instagram, Inc.  Free   \n",
       "2                          TikTok        12+         TikTok Ltd.  Free   \n",
       "3           CapCut - Video Editor        12+  Bytedance Pte. Ltd  Free   \n",
       "4  YouTube: Watch, Listen, Stream        12+          Google LLC  Free   \n",
       "\n",
       "            Category                                     Privacy_policy  \\\n",
       "0           Shopping  https://www.temu.com/privacy-and-cookie-policy...   \n",
       "1  Social Networking         https://privacycenter.instagram.com/policy   \n",
       "2      Entertainment        https://www.tiktok.com/legal/privacy-policy   \n",
       "3      Photo & Video  https://www.capcut.net/clause/privacy?language=en   \n",
       "4      Photo & Video             http://www.google.com/policies/privacy   \n",
       "\n",
       "                                                text  \\\n",
       "0  Temu | Privacy Policy\\n​​​​​​​​​​​​​​​​​​​​​​​...   \n",
       "1  \\n\\n\\n\\n\\n\\n\\n\\n\\n\\n\\n\\n\\n\\n\\n\\n\\n\\n\\n\\n\\n\\n\\n...   \n",
       "2  Privacy Policy | TikTok\\nU.S.\\nPrivacy Policy\\...   \n",
       "3  \\n\\n\\n\\n\\n\\n\\n\\n\\n\\n\\n\\n\\n\\n\\n\\n\\n\\n\\n\\n\\n\\n\\n...   \n",
       "4  \\n\\n\\n\\n\\n\\nhttps://policies.google.com/privac...   \n",
       "\n",
       "                                        cleaned_text  \n",
       "0  Temu | Privacy Policy  Privacy Policy Last upd...  \n",
       "1   Meta Privacy Policy - How Meta collects and u...  \n",
       "2  Privacy Policy | TikTok U.S. Privacy Policy La...  \n",
       "3   Privacy Policy CapCut Privacy Policy Last Upd...  \n",
       "4   https://policies.google.com/privacy?hl=en&gl=us   "
      ]
     },
     "execution_count": 49,
     "metadata": {},
     "output_type": "execute_result"
    }
   ],
   "source": [
    "# Clean unicode char in text\n",
    "def clean_text(text):\n",
    "    # Remove newline and tab characters\n",
    "    text = re.sub(r'\\s+', ' ', text)\n",
    "    \n",
    "    # Normalize Unicode characters\n",
    "    # text = unicodedata.normalize('NFKD', text)\n",
    "    text = re.sub(r'\\\\u[0-9A-Fa-f]{4}', '', text)\n",
    "\n",
    "    # Unescape HTML entities\n",
    "    text = html.unescape(text)\n",
    "\n",
    "    # Clean all non-ASCII characters\n",
    "    cleaned_text = text.encode('ascii', 'ignore').decode()\n",
    "    \n",
    "    return cleaned_text\n",
    "\n",
    "pp['cleaned_text'] = pp['text'].apply(lambda x: clean_text(x))\n",
    "pp.head(5)"
   ]
  },
  {
   "cell_type": "code",
   "execution_count": 52,
   "metadata": {},
   "outputs": [],
   "source": [
    "# Write top 100 apps' privacy policies locally\n",
    "pp.to_csv(\"Top100_cleaned.csv\", index=False)"
   ]
  },
  {
   "cell_type": "code",
   "execution_count": 59,
   "metadata": {},
   "outputs": [
    {
     "data": {
      "text/plain": [
       "array(['Shopping', 'Social Networking', 'Entertainment', 'Photo & Video',\n",
       "       'Productivity', 'Utilities', 'Navigation', 'Finance',\n",
       "       'Food & Drink', 'Music', 'Travel', 'News', 'Lifestyle', 'Business',\n",
       "       'Education', 'Health & Fitness', 'Reference', 'Sports', 'Books'],\n",
       "      dtype=object)"
      ]
     },
     "execution_count": 59,
     "metadata": {},
     "output_type": "execute_result"
    }
   ],
   "source": [
    "pp['Category'].unique()"
   ]
  },
  {
   "cell_type": "markdown",
   "metadata": {},
   "source": [
    "## Vectorize policies"
   ]
  },
  {
   "cell_type": "code",
   "execution_count": 1,
   "metadata": {},
   "outputs": [],
   "source": [
    "import pandas as pd\n",
    "\n",
    "pp = pd.read_csv('Top100_cleaned.csv')"
   ]
  },
  {
   "cell_type": "markdown",
   "metadata": {},
   "source": [
    "### Using TF-IDF vectorize\n",
    "\n",
    "A naive but simple way\n",
    "\n",
    "Install sklearn in your python environment with \"pip install matplotlib scikit-learn\""
   ]
  },
  {
   "cell_type": "code",
   "execution_count": 2,
   "metadata": {},
   "outputs": [],
   "source": [
    "import matplotlib.pyplot as plt\n",
    "from sklearn.feature_extraction.text import TfidfVectorizer\n",
    "from sklearn.decomposition import PCA\n",
    "from sklearn.manifold import TSNE\n",
    "\n",
    "# Sample dataset of documents\n",
    "documents = pp[\"cleaned_text\"]\n",
    "\n",
    "# Step 1: Vectorize the documents\n",
    "vectorizer = TfidfVectorizer()\n",
    "X = vectorizer.fit_transform(documents)"
   ]
  },
  {
   "cell_type": "code",
   "execution_count": 3,
   "metadata": {},
   "outputs": [],
   "source": [
    "# Step 2: Reduce dimensions to 2D\n",
    "# using t-SNE\n",
    "# tsne = TSNE(n_components=2)\n",
    "# X_tsne = tsne.fit_transform(X.toarray())\n",
    "\n",
    "# Using PCA\n",
    "pca = PCA(n_components=2)\n",
    "X_pca = pca.fit_transform(X.toarray())\n"
   ]
  },
  {
   "cell_type": "code",
   "execution_count": 4,
   "metadata": {},
   "outputs": [],
   "source": [
    "# Step -3: Color encoding\n",
    "# Encode the category column to numerical values\n",
    "from sklearn.preprocessing import LabelEncoder\n",
    "\n",
    "le = LabelEncoder()\n",
    "color_encoded = le.fit_transform(pp['Category'])"
   ]
  },
  {
   "cell_type": "code",
   "execution_count": 81,
   "metadata": {},
   "outputs": [
    {
     "data": {
      "image/png": "[encoded data removed]",
      "text/plain": [
       "<Figure size 1000x700 with 2 Axes>"
      ]
     },
     "metadata": {},
     "output_type": "display_data"
    }
   ],
   "source": [
    "# Step 3: Plot the documents in 2D\n",
    "plt.figure(figsize=(10, 7))\n",
    "\n",
    "# Or for t-SNE plot\n",
    "# plt.scatter(X_tsne[:, 0], X_tsne[:, 1], c='blue')\n",
    "# for i, doc in enumerate(documents):\n",
    "#     plt.annotate(doc, (X_tsne[i, 0], X_tsne[i, 1]))\n",
    "\n",
    "# Using PCA\n",
    "scatter = plt.scatter(X_pca[:, 0], X_pca[:, 1], c=color_encoded, cmap=plt.cm.tab10, alpha= 0.5, s = 12)\n",
    "\n",
    "# Add a color bar to indicate the categories\n",
    "plt.colorbar(scatter, ticks=range(len(le.classes_)), format=plt.FuncFormatter(lambda x, _: le.inverse_transform([int(x)])[0]))\n",
    "\n",
    "# for i, doc in enumerate(documents):\n",
    "#     plt.annotate(f\"Doc {i+1}\", (X_pca[i, 0], X_pca[i, 1]))\n",
    "for i, name in enumerate(pp['Name']):\n",
    "    plt.annotate(name, (X_pca[i, 0], X_pca[i, 1]), fontsize = 5)\n"
   ]
  },
  {
   "cell_type": "markdown",
   "metadata": {},
   "source": [
    "Install mplcursors with \"pip install mplcursors\": Failed to import 💔 Don't know why"
   ]
  },
  {
   "cell_type": "code",
   "execution_count": 5,
   "metadata": {},
   "outputs": [
    {
     "ename": "ModuleNotFoundError",
     "evalue": "No module named 'mplcursors'",
     "output_type": "error",
     "traceback": [
      "\u001b[0;31m---------------------------------------------------------------------------\u001b[0m",
      "\u001b[0;31mModuleNotFoundError\u001b[0m                       Traceback (most recent call last)",
      "\u001b[0;32m/var/folders/0q/7vty58gd1wd5gtv92sj6pq0w0000gn/T/ipykernel_22154/1726494029.py\u001b[0m in \u001b[0;36m<module>\u001b[0;34m\u001b[0m\n\u001b[1;32m      1\u001b[0m \u001b[0;31m# Add hovering to graph\u001b[0m\u001b[0;34m\u001b[0m\u001b[0;34m\u001b[0m\u001b[0m\n\u001b[0;32m----> 2\u001b[0;31m \u001b[0;32mimport\u001b[0m \u001b[0mmplcursors\u001b[0m\u001b[0;34m\u001b[0m\u001b[0;34m\u001b[0m\u001b[0m\n\u001b[0m\u001b[1;32m      3\u001b[0m \u001b[0;34m\u001b[0m\u001b[0m\n\u001b[1;32m      4\u001b[0m \u001b[0mcursor\u001b[0m \u001b[0;34m=\u001b[0m \u001b[0mmplcursors\u001b[0m\u001b[0;34m.\u001b[0m\u001b[0mcursor\u001b[0m\u001b[0;34m(\u001b[0m\u001b[0mscatter\u001b[0m\u001b[0;34m,\u001b[0m \u001b[0mhover\u001b[0m\u001b[0;34m=\u001b[0m\u001b[0;32mTrue\u001b[0m\u001b[0;34m)\u001b[0m\u001b[0;34m\u001b[0m\u001b[0;34m\u001b[0m\u001b[0m\n\u001b[1;32m      5\u001b[0m \u001b[0;34m\u001b[0m\u001b[0m\n",
      "\u001b[0;31mModuleNotFoundError\u001b[0m: No module named 'mplcursors'"
     ]
    }
   ],
   "source": [
    "# Add hovering to graph\n",
    "import mplcursors\n",
    "\n",
    "cursor = mplcursors.cursor(scatter, hover=True)\n",
    "\n",
    "@cursor.connect(\"add\")\n",
    "def on_add(sel):\n",
    "    sel.annotation.set(text=pp['name'][sel.index])\n",
    "\n",
    "# Display the graph\n",
    "plt.title(\"Privacy Policies of Top 100 Apps\")\n",
    "plt.show()\n"
   ]
  },
  {
   "cell_type": "markdown",
   "metadata": {},
   "source": [
    "Use plotly for interactive instead"
   ]
  },
  {
   "cell_type": "code",
   "execution_count": 6,
   "metadata": {},
   "outputs": [
    {
     "data": {
      "application/vnd.plotly.v1+json": {
       "config": {
        "plotlyServerURL": "https://plot.ly"
       },
       "data": [
        {
         "marker": {
          "color": [
           14,
           15,
           3,
           11,
           11,
           12,
           11,
           18,
           12,
           15,
           14,
           3,
           15,
           9,
           15,
           11,
           4,
           5,
           8,
           3,
           18,
           3,
           17,
           14,
           15,
           10,
           15,
           5,
           7,
           14,
           15,
           3,
           4,
           1,
           4,
           2,
           6,
           12,
           1,
           3,
           14,
           1,
           15,
           5,
           10,
           5,
           11,
           3,
           4,
           12,
           3,
           17,
           12,
           1,
           6,
           3,
           17,
           6,
           3,
           14,
           4,
           11,
           15,
           11,
           4,
           1,
           12,
           7,
           4,
           3,
           13,
           17,
           3,
           8,
           17,
           14,
           5,
           5,
           4,
           7,
           16,
           1,
           3,
           14,
           3,
           14,
           2,
           12,
           14,
           5,
           14,
           6,
           12,
           13,
           15,
           7,
           7,
           14,
           8,
           0
          ],
          "size": 8
         },
         "mode": "markers",
         "text": [
          "Temu: Shop Like a Billionaire",
          "Threads, an Instagram app",
          "TikTok",
          "CapCut - Video Editor",
          "YouTube: Watch, Listen, Stream",
          "ChatGPT",
          "Instagram",
          "Google",
          "Gmail - Email by Google",
          "WhatsApp Messenger",
          "SHEIN - Shopping Online",
          "Max: Stream HBO, TV, & Movies",
          "Facebook",
          "Google Maps",
          "Telegram Messenger",
          "Snapchat",
          "Cash App",
          "DoorDash - Food Delivery",
          "Spotify - Music and Podcasts",
          "Amazon Prime Video",
          "Google Chrome",
          "Netflix",
          "Uber - Request a ride",
          "Amazon Shopping",
          "Discord - Chat, Talk & Hangout",
          "Reddit",
          "Messenger",
          "McDonald's",
          "Pinterest",
          "Walmart: Shopping & Savings",
          "Google Meet",
          "Peacock TV: Stream TV & Movies",
          "TurboTax: File Your Tax Return",
          "Indeed Job Search",
          "PayPal - Send, Shop, Manage",
          "Duolingo - Language Lessons",
          "ShutEye®: Sleep Tracker, Sound",
          "Microsoft Authenticator",
          "Zoom - One Platform to Connect",
          "The Roku App (Official‪)‬",
          "Shop: All your favorite brands",
          "Microsoft Teams",
          "Life360: Find Friends & Family",
          "Domino's Pizza USA",
          "X",
          "Uber Eats: Food Delivery",
          "Twitch: Live Game Streaming",
          "ReelShort",
          "Venmo",
          "Google Drive",
          "Ticketmaster－Buy, Sell Tickets",
          "Airbnb",
          "Microsoft Outlook",
          "LinkedIn: Network & Job Finder",
          "Planet Fitness Workouts",
          "Hulu: Watch TV shows & movies",
          "Lyft",
          "Impulse - Brain Training",
          "Disney‪+‬",
          "Capital One Shopping: Save Now",
          "Zelle",
          "Google Photos: Backup & Edit",
          "Locket Widget",
          "Canva: Design, Photo & Video",
          "Rocket Money - Bills & Budgets",
          "ADP Mobile Solutions",
          "Google Docs: Sync, Edit, Share",
          "Lemon8 - Lifestyle Community",
          "Capital One Mobile",
          "Tubi: Movies & Live TV",
          "Google Translate",
          "Expedia: Hotels, Flights & Car",
          "Pocket FM: Audio Series",
          "YouTube Music",
          "Vrbo Vacation Rentals",
          "eBay Selling & Shopping Online",
          "Starbucks",
          "Subway‪®‬",
          "Intuit Credit Karma",
          "Tinder: Dating, Chat & Friends",
          "PrizePicks - Fantasy Game",
          "DoorDash - Dasher",
          "Paramount‪+‬",
          "Etsy: Home, Style & Gifts",
          "PlayStation App",
          "Nike: Shoes, Apparel, Stories",
          "Question.AI-AI Math Calculator",
          "VPN - Super Unlimited Proxy",
          "Target",
          "Instacart-Get Grocery Delivery",
          "Costco",
          "JustFit: Lazy Workout & Fit",
          "Google Sheets",
          "Bible",
          "TextNow: Call + Text Unlimited",
          "LooksMax AI",
          "Zillow Real Estate & Rentals",
          "Flip.shop",
          "Shazam: Music Discovery",
          "Audible: Audio Entertainment"
         ],
         "type": "scatter",
         "x": [
          -0.40308136941891304,
          0.49510058110183464,
          -0.40026894432738847,
          -0.42540129160357104,
          0.752187362815655,
          -0.39029004882285784,
          0.49510058110183475,
          0.17463679758489653,
          -0.32583970680022084,
          0.41787312620867184,
          0.4664383502947547,
          0.06431089341638448,
          0.49510058110183464,
          0.752187362815655,
          -0.16377130453081026,
          -0.3697702488536164,
          -0.03230189621925797,
          0.43738312894439946,
          -0.1400520740003737,
          0.3301922817779172,
          0.32760547008737406,
          -0.30781598673568605,
          0.4973676923507858,
          0.4871936087468444,
          -0.36724718172789783,
          -0.33319210389946374,
          0.49510058110183464,
          -0.004850162150610484,
          -0.38023555936400977,
          -0.32868465495950233,
          0.752187362815655,
          -0.3150402630676527,
          -0.3472396384967433,
          0.47503137203936224,
          -0.3275383605977243,
          -0.14001699272777826,
          -0.41772800566884016,
          0.35937455833507115,
          -0.13105587446017694,
          0.359114763527079,
          0.03598250178511223,
          -0.26620712438138033,
          0.43738312894439946,
          -0.34487413316169035,
          -0.4161801409682255,
          0.4973676923507858,
          0.4239516919413182,
          -0.42351658092701117,
          0.23553470211980745,
          0.752187362815655,
          -0.38192274049173025,
          0.29190224378069923,
          -0.26620712438138033,
          -0.36633954093168913,
          0.43738312894439946,
          -0.10602831897497092,
          -0.19472554480087975,
          -0.33548925472919394,
          -0.10602831897497092,
          0.44396993922919314,
          -0.3261083592432954,
          0.752187362815655,
          -0.37522477501152834,
          -0.2501459002665147,
          0.37283571450649133,
          -0.08370268973114908,
          0.752187362815655,
          -0.4089911133068977,
          -0.3144569735467688,
          0.36937254651976836,
          -0.32583970680022084,
          0.3637033452464791,
          -0.31822254361697655,
          0.752187362815655,
          0.36370334524651193,
          -0.1716790306469598,
          0.03336216774961248,
          0.1635620216605369,
          -0.3472396384967433,
          -0.2116504574912071,
          -0.4132086224392679,
          0.43738312894439946,
          -0.39930418711961524,
          0.4031699177226558,
          -0.3497104950034226,
          0.23403452939840777,
          0.47242651493997206,
          -0.40981147855656963,
          -0.2930567151886549,
          0.4877787671166668,
          -0.38897497579556717,
          -0.38897497579556717,
          -0.38897497579556717,
          -0.38897497579556717,
          -0.38897497579556717,
          -0.38897497579556717,
          -0.38897497579556717,
          -0.38897497579556717,
          -0.38897497579556717,
          -0.38897497579556717
         ],
         "y": [
          0.05939939306121656,
          -0.3525176959301926,
          0.058137956361415076,
          0.05267501035262014,
          0.7275345707856247,
          0.05482738762151068,
          -0.3525176959301923,
          -0.02231754514205261,
          0.09975252369990076,
          -0.15793621827786405,
          -0.17103134655214533,
          -0.022803887324538696,
          -0.35251769593019233,
          0.7275345707856246,
          -0.017557270200454708,
          0.04712967895034026,
          -0.04511643742995727,
          -0.4540546427457307,
          -0.03780155683328903,
          -0.11671880166431538,
          -0.08569113561693248,
          0.03322121546579151,
          -0.2213798287460374,
          -0.1930311149918298,
          0.04252663557815322,
          0.040636526175416327,
          -0.35251769593019233,
          -0.04627868816770369,
          0.03757191984788777,
          0.052043981391578245,
          0.7275345707856246,
          0.02279040030316608,
          0.05944712913774244,
          -0.17781191338724917,
          0.029094389665852545,
          -0.010362769159521994,
          0.055733422315712614,
          -0.16787866460105552,
          -0.04066237498066321,
          -0.23328524879120785,
          -0.0623483891800484,
          -0.021629795009147967,
          -0.4540546427457307,
          0.03548398816843035,
          0.05224743870051331,
          -0.2213798287460374,
          -0.1642421375872995,
          0.06987809298380826,
          -0.12476613713709393,
          0.7275345707856246,
          0.054213320662159836,
          -0.12387598348400959,
          -0.021629795009147967,
          0.02112830471031834,
          -0.4540546427457307,
          0.05995679309316265,
          -0.00535627006308302,
          0.0457188549056537,
          0.05995679309316265,
          -0.17265008865060352,
          0.04779708154395097,
          0.7275345707856246,
          0.038769809170864006,
          0.01059750430379719,
          -0.2480382441954213,
          -0.025124869869830105,
          0.7275345707856246,
          0.05013568653707408,
          0.035998635281935754,
          -0.12935972699743742,
          0.09975252369990076,
          -0.172943887790852,
          0.03138712288249651,
          0.7275345707856246,
          -0.17294388825704654,
          0.018862707320747022,
          -0.0723385048807863,
          -0.11759213872049468,
          0.05944712913774244,
          0.04458248855758422,
          0.0681566088040323,
          -0.4540546427457307,
          0.060850145704916134,
          -0.1390539532541625,
          0.042119915052190114,
          -0.12020948731125064,
          -0.1755797954595824,
          0.05592019958008639,
          0.025628928722633396,
          -0.1938749139882289,
          0.05525723541172373,
          0.05525723541172373,
          0.05525723541172373,
          0.05525723541172373,
          0.05525723541172373,
          0.05525723541172373,
          0.05525723541172373,
          0.05525723541172373,
          0.05525723541172373,
          0.05525723541172373
         ]
        }
       ],
       "layout": {
        "template": {
         "data": {
          "bar": [
           {
            "error_x": {
             "color": "#2a3f5f"
            },
            "error_y": {
             "color": "#2a3f5f"
            },
            "marker": {
             "line": {
              "color": "#E5ECF6",
              "width": 0.5
             },
             "pattern": {
              "fillmode": "overlay",
              "size": 10,
              "solidity": 0.2
             }
            },
            "type": "bar"
           }
          ],
          "barpolar": [
           {
            "marker": {
             "line": {
              "color": "#E5ECF6",
              "width": 0.5
             },
             "pattern": {
              "fillmode": "overlay",
              "size": 10,
              "solidity": 0.2
             }
            },
            "type": "barpolar"
           }
          ],
          "carpet": [
           {
            "aaxis": {
             "endlinecolor": "#2a3f5f",
             "gridcolor": "white",
             "linecolor": "white",
             "minorgridcolor": "white",
             "startlinecolor": "#2a3f5f"
            },
            "baxis": {
             "endlinecolor": "#2a3f5f",
             "gridcolor": "white",
             "linecolor": "white",
             "minorgridcolor": "white",
             "startlinecolor": "#2a3f5f"
            },
            "type": "carpet"
           }
          ],
          "choropleth": [
           {
            "colorbar": {
             "outlinewidth": 0,
             "ticks": ""
            },
            "type": "choropleth"
           }
          ],
          "contour": [
           {
            "colorbar": {
             "outlinewidth": 0,
             "ticks": ""
            },
            "colorscale": [
             [
              0,
              "#0d0887"
             ],
             [
              0.1111111111111111,
              "#46039f"
             ],
             [
              0.2222222222222222,
              "#7201a8"
             ],
             [
              0.3333333333333333,
              "#9c179e"
             ],
             [
              0.4444444444444444,
              "#bd3786"
             ],
             [
              0.5555555555555556,
              "#d8576b"
             ],
             [
              0.6666666666666666,
              "#ed7953"
             ],
             [
              0.7777777777777778,
              "#fb9f3a"
             ],
             [
              0.8888888888888888,
              "#fdca26"
             ],
             [
              1,
              "#f0f921"
             ]
            ],
            "type": "contour"
           }
          ],
          "contourcarpet": [
           {
            "colorbar": {
             "outlinewidth": 0,
             "ticks": ""
            },
            "type": "contourcarpet"
           }
          ],
          "heatmap": [
           {
            "colorbar": {
             "outlinewidth": 0,
             "ticks": ""
            },
            "colorscale": [
             [
              0,
              "#0d0887"
             ],
             [
              0.1111111111111111,
              "#46039f"
             ],
             [
              0.2222222222222222,
              "#7201a8"
             ],
             [
              0.3333333333333333,
              "#9c179e"
             ],
             [
              0.4444444444444444,
              "#bd3786"
             ],
             [
              0.5555555555555556,
              "#d8576b"
             ],
             [
              0.6666666666666666,
              "#ed7953"
             ],
             [
              0.7777777777777778,
              "#fb9f3a"
             ],
             [
              0.8888888888888888,
              "#fdca26"
             ],
             [
              1,
              "#f0f921"
             ]
            ],
            "type": "heatmap"
           }
          ],
          "heatmapgl": [
           {
            "colorbar": {
             "outlinewidth": 0,
             "ticks": ""
            },
            "colorscale": [
             [
              0,
              "#0d0887"
             ],
             [
              0.1111111111111111,
              "#46039f"
             ],
             [
              0.2222222222222222,
              "#7201a8"
             ],
             [
              0.3333333333333333,
              "#9c179e"
             ],
             [
              0.4444444444444444,
              "#bd3786"
             ],
             [
              0.5555555555555556,
              "#d8576b"
             ],
             [
              0.6666666666666666,
              "#ed7953"
             ],
             [
              0.7777777777777778,
              "#fb9f3a"
             ],
             [
              0.8888888888888888,
              "#fdca26"
             ],
             [
              1,
              "#f0f921"
             ]
            ],
            "type": "heatmapgl"
           }
          ],
          "histogram": [
           {
            "marker": {
             "pattern": {
              "fillmode": "overlay",
              "size": 10,
              "solidity": 0.2
             }
            },
            "type": "histogram"
           }
          ],
          "histogram2d": [
           {
            "colorbar": {
             "outlinewidth": 0,
             "ticks": ""
            },
            "colorscale": [
             [
              0,
              "#0d0887"
             ],
             [
              0.1111111111111111,
              "#46039f"
             ],
             [
              0.2222222222222222,
              "#7201a8"
             ],
             [
              0.3333333333333333,
              "#9c179e"
             ],
             [
              0.4444444444444444,
              "#bd3786"
             ],
             [
              0.5555555555555556,
              "#d8576b"
             ],
             [
              0.6666666666666666,
              "#ed7953"
             ],
             [
              0.7777777777777778,
              "#fb9f3a"
             ],
             [
              0.8888888888888888,
              "#fdca26"
             ],
             [
              1,
              "#f0f921"
             ]
            ],
            "type": "histogram2d"
           }
          ],
          "histogram2dcontour": [
           {
            "colorbar": {
             "outlinewidth": 0,
             "ticks": ""
            },
            "colorscale": [
             [
              0,
              "#0d0887"
             ],
             [
              0.1111111111111111,
              "#46039f"
             ],
             [
              0.2222222222222222,
              "#7201a8"
             ],
             [
              0.3333333333333333,
              "#9c179e"
             ],
             [
              0.4444444444444444,
              "#bd3786"
             ],
             [
              0.5555555555555556,
              "#d8576b"
             ],
             [
              0.6666666666666666,
              "#ed7953"
             ],
             [
              0.7777777777777778,
              "#fb9f3a"
             ],
             [
              0.8888888888888888,
              "#fdca26"
             ],
             [
              1,
              "#f0f921"
             ]
            ],
            "type": "histogram2dcontour"
           }
          ],
          "mesh3d": [
           {
            "colorbar": {
             "outlinewidth": 0,
             "ticks": ""
            },
            "type": "mesh3d"
           }
          ],
          "parcoords": [
           {
            "line": {
             "colorbar": {
              "outlinewidth": 0,
              "ticks": ""
             }
            },
            "type": "parcoords"
           }
          ],
          "pie": [
           {
            "automargin": true,
            "type": "pie"
           }
          ],
          "scatter": [
           {
            "fillpattern": {
             "fillmode": "overlay",
             "size": 10,
             "solidity": 0.2
            },
            "type": "scatter"
           }
          ],
          "scatter3d": [
           {
            "line": {
             "colorbar": {
              "outlinewidth": 0,
              "ticks": ""
             }
            },
            "marker": {
             "colorbar": {
              "outlinewidth": 0,
              "ticks": ""
             }
            },
            "type": "scatter3d"
           }
          ],
          "scattercarpet": [
           {
            "marker": {
             "colorbar": {
              "outlinewidth": 0,
              "ticks": ""
             }
            },
            "type": "scattercarpet"
           }
          ],
          "scattergeo": [
           {
            "marker": {
             "colorbar": {
              "outlinewidth": 0,
              "ticks": ""
             }
            },
            "type": "scattergeo"
           }
          ],
          "scattergl": [
           {
            "marker": {
             "colorbar": {
              "outlinewidth": 0,
              "ticks": ""
             }
            },
            "type": "scattergl"
           }
          ],
          "scattermapbox": [
           {
            "marker": {
             "colorbar": {
              "outlinewidth": 0,
              "ticks": ""
             }
            },
            "type": "scattermapbox"
           }
          ],
          "scatterpolar": [
           {
            "marker": {
             "colorbar": {
              "outlinewidth": 0,
              "ticks": ""
             }
            },
            "type": "scatterpolar"
           }
          ],
          "scatterpolargl": [
           {
            "marker": {
             "colorbar": {
              "outlinewidth": 0,
              "ticks": ""
             }
            },
            "type": "scatterpolargl"
           }
          ],
          "scatterternary": [
           {
            "marker": {
             "colorbar": {
              "outlinewidth": 0,
              "ticks": ""
             }
            },
            "type": "scatterternary"
           }
          ],
          "surface": [
           {
            "colorbar": {
             "outlinewidth": 0,
             "ticks": ""
            },
            "colorscale": [
             [
              0,
              "#0d0887"
             ],
             [
              0.1111111111111111,
              "#46039f"
             ],
             [
              0.2222222222222222,
              "#7201a8"
             ],
             [
              0.3333333333333333,
              "#9c179e"
             ],
             [
              0.4444444444444444,
              "#bd3786"
             ],
             [
              0.5555555555555556,
              "#d8576b"
             ],
             [
              0.6666666666666666,
              "#ed7953"
             ],
             [
              0.7777777777777778,
              "#fb9f3a"
             ],
             [
              0.8888888888888888,
              "#fdca26"
             ],
             [
              1,
              "#f0f921"
             ]
            ],
            "type": "surface"
           }
          ],
          "table": [
           {
            "cells": {
             "fill": {
              "color": "#EBF0F8"
             },
             "line": {
              "color": "white"
             }
            },
            "header": {
             "fill": {
              "color": "#C8D4E3"
             },
             "line": {
              "color": "white"
             }
            },
            "type": "table"
           }
          ]
         },
         "layout": {
          "annotationdefaults": {
           "arrowcolor": "#2a3f5f",
           "arrowhead": 0,
           "arrowwidth": 1
          },
          "autotypenumbers": "strict",
          "coloraxis": {
           "colorbar": {
            "outlinewidth": 0,
            "ticks": ""
           }
          },
          "colorscale": {
           "diverging": [
            [
             0,
             "#8e0152"
            ],
            [
             0.1,
             "#c51b7d"
            ],
            [
             0.2,
             "#de77ae"
            ],
            [
             0.3,
             "#f1b6da"
            ],
            [
             0.4,
             "#fde0ef"
            ],
            [
             0.5,
             "#f7f7f7"
            ],
            [
             0.6,
             "#e6f5d0"
            ],
            [
             0.7,
             "#b8e186"
            ],
            [
             0.8,
             "#7fbc41"
            ],
            [
             0.9,
             "#4d9221"
            ],
            [
             1,
             "#276419"
            ]
           ],
           "sequential": [
            [
             0,
             "#0d0887"
            ],
            [
             0.1111111111111111,
             "#46039f"
            ],
            [
             0.2222222222222222,
             "#7201a8"
            ],
            [
             0.3333333333333333,
             "#9c179e"
            ],
            [
             0.4444444444444444,
             "#bd3786"
            ],
            [
             0.5555555555555556,
             "#d8576b"
            ],
            [
             0.6666666666666666,
             "#ed7953"
            ],
            [
             0.7777777777777778,
             "#fb9f3a"
            ],
            [
             0.8888888888888888,
             "#fdca26"
            ],
            [
             1,
             "#f0f921"
            ]
           ],
           "sequentialminus": [
            [
             0,
             "#0d0887"
            ],
            [
             0.1111111111111111,
             "#46039f"
            ],
            [
             0.2222222222222222,
             "#7201a8"
            ],
            [
             0.3333333333333333,
             "#9c179e"
            ],
            [
             0.4444444444444444,
             "#bd3786"
            ],
            [
             0.5555555555555556,
             "#d8576b"
            ],
            [
             0.6666666666666666,
             "#ed7953"
            ],
            [
             0.7777777777777778,
             "#fb9f3a"
            ],
            [
             0.8888888888888888,
             "#fdca26"
            ],
            [
             1,
             "#f0f921"
            ]
           ]
          },
          "colorway": [
           "#636efa",
           "#EF553B",
           "#00cc96",
           "#ab63fa",
           "#FFA15A",
           "#19d3f3",
           "#FF6692",
           "#B6E880",
           "#FF97FF",
           "#FECB52"
          ],
          "font": {
           "color": "#2a3f5f"
          },
          "geo": {
           "bgcolor": "white",
           "lakecolor": "white",
           "landcolor": "#E5ECF6",
           "showlakes": true,
           "showland": true,
           "subunitcolor": "white"
          },
          "hoverlabel": {
           "align": "left"
          },
          "hovermode": "closest",
          "mapbox": {
           "style": "light"
          },
          "paper_bgcolor": "white",
          "plot_bgcolor": "#E5ECF6",
          "polar": {
           "angularaxis": {
            "gridcolor": "white",
            "linecolor": "white",
            "ticks": ""
           },
           "bgcolor": "#E5ECF6",
           "radialaxis": {
            "gridcolor": "white",
            "linecolor": "white",
            "ticks": ""
           }
          },
          "scene": {
           "xaxis": {
            "backgroundcolor": "#E5ECF6",
            "gridcolor": "white",
            "gridwidth": 2,
            "linecolor": "white",
            "showbackground": true,
            "ticks": "",
            "zerolinecolor": "white"
           },
           "yaxis": {
            "backgroundcolor": "#E5ECF6",
            "gridcolor": "white",
            "gridwidth": 2,
            "linecolor": "white",
            "showbackground": true,
            "ticks": "",
            "zerolinecolor": "white"
           },
           "zaxis": {
            "backgroundcolor": "#E5ECF6",
            "gridcolor": "white",
            "gridwidth": 2,
            "linecolor": "white",
            "showbackground": true,
            "ticks": "",
            "zerolinecolor": "white"
           }
          },
          "shapedefaults": {
           "line": {
            "color": "#2a3f5f"
           }
          },
          "ternary": {
           "aaxis": {
            "gridcolor": "white",
            "linecolor": "white",
            "ticks": ""
           },
           "baxis": {
            "gridcolor": "white",
            "linecolor": "white",
            "ticks": ""
           },
           "bgcolor": "#E5ECF6",
           "caxis": {
            "gridcolor": "white",
            "linecolor": "white",
            "ticks": ""
           }
          },
          "title": {
           "x": 0.05
          },
          "xaxis": {
           "automargin": true,
           "gridcolor": "white",
           "linecolor": "white",
           "ticks": "",
           "title": {
            "standoff": 15
           },
           "zerolinecolor": "white",
           "zerolinewidth": 2
          },
          "yaxis": {
           "automargin": true,
           "gridcolor": "white",
           "linecolor": "white",
           "ticks": "",
           "title": {
            "standoff": 15
           },
           "zerolinecolor": "white",
           "zerolinewidth": 2
          }
         }
        }
       }
      }
     },
     "metadata": {},
     "output_type": "display_data"
    }
   ],
   "source": [
    "import plotly.graph_objects as go\n",
    "\n",
    "# Create a scatter plot\n",
    "fig = go.Figure(data=go.Scatter(\n",
    "    x=X_pca[:, 0],\n",
    "    y=X_pca[:, 1],\n",
    "    mode='markers',\n",
    "    text=pp['Name'],  # Set the hover text to the 'name' column\n",
    "    marker=dict(size=8, color = color_encoded)\n",
    "))\n",
    "\n",
    "# Show the plot\n",
    "fig.show()"
   ]
  },
  {
   "cell_type": "code",
   "execution_count": null,
   "metadata": {},
   "outputs": [],
   "source": []
  }
 ],
 "metadata": {
  "kernelspec": {
   "display_name": "Python 3",
   "language": "python",
   "name": "python3"
  },
  "language_info": {
   "codemirror_mode": {
    "name": "ipython",
    "version": 3
   },
   "file_extension": ".py",
   "mimetype": "text/x-python",
   "name": "python",
   "nbconvert_exporter": "python",
   "pygments_lexer": "ipython3",
   "version": "3.9.13"
  }
 },
 "nbformat": 4,
 "nbformat_minor": 2
}
